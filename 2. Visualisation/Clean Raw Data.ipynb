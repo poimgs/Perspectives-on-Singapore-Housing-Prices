{
 "cells": [
  {
   "cell_type": "markdown",
   "source": "# Clean Raw Data\nCleaning Data becomes interesting depending on what kind of analysis we want to do. For this portion, since I want to visualise the data, the data typically have to be split into multiple data frames such that one numerical value always takes one row",
   "metadata": {
    "tags": [],
    "cell_id": "00000-6c21f1e4-9a5b-47e0-895c-5d37b492a9b4",
    "deepnote_cell_type": "markdown"
   }
  },
  {
   "cell_type": "markdown",
   "source": "## Import Data",
   "metadata": {
    "tags": [],
    "cell_id": "00001-ebbe9f2d-0c95-479f-be58-b205c8e832df",
    "deepnote_cell_type": "markdown"
   }
  },
  {
   "cell_type": "code",
   "metadata": {
    "tags": [],
    "deepnote_to_be_reexecuted": false,
    "source_hash": "7ca0bd30",
    "execution_start": 1626171263350,
    "execution_millis": 27,
    "cell_id": "00001-7ea46573-6393-42d1-a04d-a498eb72b26e",
    "deepnote_cell_type": "code"
   },
   "source": "import pandas as pd\nimport re\nimport math\nimport requests\nimport os\nimport json\nimport time\nfrom ratelimiter import RateLimiter",
   "execution_count": 81,
   "outputs": []
  },
  {
   "cell_type": "code",
   "metadata": {
    "tags": [],
    "deepnote_to_be_reexecuted": false,
    "source_hash": "86991f32",
    "execution_start": 1626148606416,
    "execution_millis": 833,
    "cell_id": "00002-a69177e7-9405-4643-945e-4a3c52658cdd",
    "deepnote_cell_type": "code"
   },
   "source": "resale_flat_prices_file_path = os.path.join('..', 'Raw Data', 'resale flat prices (08_07_2021).csv')\nhdb_property_file_path = os.path.join('..', 'Raw Data', 'HDB property information.csv')\nmrt_file_path = os.path.join('..', 'Raw Data', 'MRT information.csv')\nbus_stops_file_path = os.path.join('..', 'Raw Data', 'Bus Stops information.csv')\nbus_services_file_path = os.path.join('..', 'Raw Data', 'Bus Services information.csv')\nschools_file_path = os.path.join('..', 'Raw Data', 'Schools information.csv')\nsupermarkets_file_path = os.path.join('..', 'Raw Data', 'supermarket information.csv')\n\nresale_flat_prices_df = pd.read_csv(resale_flat_prices_file_path)\nhdb_property_df = pd.read_csv(hdb_property_file_path)\nmrt_df = pd.read_csv(mrt_file_path)\nbus_stops_df = pd.read_csv(bus_stops_file_path)\nbus_services_df = pd.read_csv(bus_services_file_path)\nschools_df = pd.read_csv(schools_file_path)\nsupermarkets_df = pd.read_csv(supermarkets_file_path)",
   "execution_count": 2,
   "outputs": [
    {
     "name": "stderr",
     "text": "/shared-libs/python3.7/py-core/lib/python3.7/site-packages/IPython/core/interactiveshell.py:3170: DtypeWarning: Columns (11) have mixed types.Specify dtype option on import or set low_memory=False.\n  interactivity=interactivity, compiler=compiler, result=result)\n",
     "output_type": "stream"
    }
   ]
  },
  {
   "cell_type": "markdown",
   "source": "## Helper functions",
   "metadata": {
    "tags": [],
    "cell_id": "00004-7bfa905f-7a30-413b-8a7d-4d9278161e30",
    "deepnote_cell_type": "markdown"
   }
  },
  {
   "cell_type": "markdown",
   "source": "### Get location details based on any query (typically address)",
   "metadata": {
    "tags": [],
    "cell_id": "00005-354ae894-1dd7-4ec8-bb9d-a44a493e00f0",
    "deepnote_cell_type": "markdown"
   }
  },
  {
   "cell_type": "code",
   "metadata": {
    "tags": [],
    "cell_id": "00005-5e810c46-b96d-4e60-a7e2-52015b1a35be",
    "deepnote_to_be_reexecuted": false,
    "source_hash": "4f96c448",
    "execution_start": 1626148607256,
    "execution_millis": 0,
    "deepnote_cell_type": "code"
   },
   "source": "geocode_url = 'https://developers.onemap.sg/commonapi/search'\n\n@RateLimiter(max_calls=250, period=60)\ndef get_location_details(address, geocode_url=geocode_url):\n    params = {\n    'searchVal': address,\n    'returnGeom': 'Y',\n    'getAddrDetails': 'Y'\n    }\n\n    response = requests.get(geocode_url, params=params)\n\n    # Checks if the one map API found any match\n    if response.json()['found'] == 0:\n        return None, None, None, None, None\n\n    data = response.json()['results'][0]\n\n    latitude = data['LATITUDE']\n    longitude = data['LONGITUDE']\n    postal_code = data['POSTAL']\n    building = data['BUILDING']\n    road_name = data['ROAD_NAME']\n\n    # # API can only be called 250 times every min\n    # time.sleep(0.25)\n\n    return latitude, longitude, postal_code, building, road_name",
   "execution_count": 3,
   "outputs": []
  },
  {
   "cell_type": "markdown",
   "source": "### Get location details based on latitude and longitude",
   "metadata": {
    "tags": [],
    "cell_id": "00007-206bc6ea-8957-4e8e-9228-c4bdbbdea529",
    "deepnote_cell_type": "markdown"
   }
  },
  {
   "cell_type": "code",
   "metadata": {
    "tags": [],
    "cell_id": "00006-98690f2c-acf6-48aa-802c-8f8cfbdeea54",
    "deepnote_to_be_reexecuted": false,
    "source_hash": "c196a990",
    "execution_start": 1626148607260,
    "execution_millis": 830,
    "deepnote_cell_type": "code"
   },
   "source": "# This API requires an API Token\nONE_MAP_EMAIL = os.environ[\"ONE_MAP_EMAIL\"]\nONE_MAP_PASSWORD = os.environ[\"ONE_MAP_PASSWORD\"]\n\ndata = {\n    'email': ONE_MAP_EMAIL,\n    'password': ONE_MAP_PASSWORD\n}\n\nres = requests.post('https://developers.onemap.sg/privateapi/auth/post/getToken', json=data)\nTOKEN = res.json()['access_token']",
   "execution_count": 4,
   "outputs": []
  },
  {
   "cell_type": "code",
   "metadata": {
    "tags": [],
    "cell_id": "00009-fc421677-4ff3-446a-9bf3-bf7a7fac34c4",
    "deepnote_to_be_reexecuted": false,
    "source_hash": "920c8f92",
    "execution_start": 1626148608098,
    "execution_millis": 2,
    "deepnote_cell_type": "code"
   },
   "source": "reverse_geocode_url = 'https://developers.onemap.sg//privateapi/commonsvc/revgeocode'\n\n@RateLimiter(max_calls=250, period=60)\ndef get_location_details_from_lat_long(latitude, longitude, geocode_url=reverse_geocode_url, TOKEN=TOKEN):\n    params = {\n        'location': f'{latitude},{longitude}',\n        'buffer': 500,\n        'token': TOKEN\n    }\n\n    response = requests.get(geocode_url, params=params)\n\n    # Checks if the one map API found any match\n    if len(response.json()['GeocodeInfo']) == 0:\n        return None, None, None, None\n\n    # Takes the first building as a proxy for postal code\n    data = response.json()['GeocodeInfo'][0]\n\n    building_name = data['BUILDINGNAME']\n    block = data['BLOCK']\n    road = data['ROAD']\n    postal_code = data['POSTALCODE']\n\n    # # API can only be called 250 times every min\n    # time.sleep(0.25)\n\n    return building_name, block, road, postal_code",
   "execution_count": 5,
   "outputs": []
  },
  {
   "cell_type": "markdown",
   "source": "# Clean Raw Data for Visualisation",
   "metadata": {
    "tags": [],
    "cell_id": "00004-540aeed5-0811-479b-9e1c-60a6dcae3cea",
    "deepnote_cell_type": "markdown"
   }
  },
  {
   "cell_type": "markdown",
   "source": "## Clean resale_flat_prices_df",
   "metadata": {
    "tags": [],
    "cell_id": "00003-5a446a64-9a8b-4f74-a7ad-d255429f136b",
    "deepnote_cell_type": "markdown"
   }
  },
  {
   "cell_type": "markdown",
   "source": "### merge with hdb_property_df",
   "metadata": {
    "tags": [],
    "cell_id": "00006-2f3f550c-60c2-4409-83bd-f1b707853e17",
    "deepnote_cell_type": "markdown"
   }
  },
  {
   "cell_type": "code",
   "metadata": {
    "tags": [],
    "cell_id": "00006-059e5b33-7086-442c-9819-f496b0b3cb43",
    "deepnote_to_be_reexecuted": false,
    "source_hash": "b1602312",
    "execution_start": 1626148608102,
    "execution_millis": 1153,
    "deepnote_cell_type": "code"
   },
   "source": "# hdb_property_df provides more meta data that can augment our resale data!\nresale_flat_prices_merged_df = pd.merge(resale_flat_prices_df, hdb_property_df, how='left', left_on=['street_name', 'block'], right_on=['street', 'blk_no'])",
   "execution_count": 6,
   "outputs": []
  },
  {
   "cell_type": "code",
   "metadata": {
    "tags": [],
    "cell_id": "00007-f0f28c50-54ee-4e4a-b5ba-ad90f9fab020",
    "deepnote_to_be_reexecuted": false,
    "source_hash": "c1ee022b",
    "execution_start": 1626148609256,
    "execution_millis": 6,
    "deepnote_cell_type": "code"
   },
   "source": "# # Seems like there are 3755 sales (0.67%) that are not matched with the meta data\n# resale_flat_prices_merged_df.info()",
   "execution_count": 7,
   "outputs": []
  },
  {
   "cell_type": "code",
   "metadata": {
    "tags": [],
    "cell_id": "00009-1b3c1cc2-d7f7-4e19-ac28-61adb1c39862",
    "deepnote_to_be_reexecuted": false,
    "source_hash": "2658f181",
    "execution_start": 1626148609275,
    "execution_millis": 1,
    "deepnote_cell_type": "code"
   },
   "source": "# # At this point, we can either impute the values or simply delete it\n# # Since it constitutes just 0.67% of the data, and we will still have a substantial amount of data after removing them, so let's remove them\n# resale_flat_prices_merged_df = resale_flat_prices_merged_df.dropna(subset=['year_completed']).reset_index(drop=True)",
   "execution_count": 8,
   "outputs": []
  },
  {
   "cell_type": "markdown",
   "source": "### remaining_lease to only be in years\n\n> There are quite a few variations in how this is expressed. I will standardise this column to only be number of years left for the lease",
   "metadata": {
    "tags": [],
    "cell_id": "00005-3e4999d8-00e8-4dd4-8dec-f7c350836c7e",
    "deepnote_cell_type": "markdown"
   }
  },
  {
   "cell_type": "code",
   "metadata": {
    "tags": [],
    "deepnote_to_be_reexecuted": false,
    "source_hash": "3401d24d",
    "execution_start": 1626148609281,
    "execution_millis": 0,
    "cell_id": "00006-7848ae2c-8c89-4c82-914e-34cd4a65107c",
    "deepnote_cell_type": "code"
   },
   "source": "years_regex = '(\\d+) years?'\n\ndef get_remaining_lease(row):\n    remaining_lease = row['remaining_lease']\n    lease_commence_date = row['lease_commence_date']\n    sale_date = row['month']\n\n    # To take into account nan values. Assumption: HDBs sold have a 99 year lease\n    if isinstance(remaining_lease, float) and math.isnan(remaining_lease):\n        sale_date_year = int(sale_date[:4])\n        remaining_lease_years = sale_date_year - lease_commence_date\n        return remaining_lease_years \n    \n    elif isinstance(remaining_lease, float):\n        return int(remaining_lease)\n\n    elif isinstance(remaining_lease, str):\n        years_res = re.search(years_regex, remaining_lease)\n\n        # To account for rows where this is expressed as x years y months\n        if years_res is not None:\n            remaining_lease_years = int(years_res.groups()[0])\n            return remaining_lease_years\n\n        # To take into account years that are strings\n        else:\n            return int(remaining_lease)",
   "execution_count": 9,
   "outputs": []
  },
  {
   "cell_type": "code",
   "metadata": {
    "tags": [],
    "deepnote_to_be_reexecuted": false,
    "source_hash": "8dd7d024",
    "execution_start": 1626148609295,
    "execution_millis": 9969,
    "cell_id": "00007-3bc10378-d6e6-4262-8b3d-7284c1b80e76",
    "deepnote_cell_type": "code"
   },
   "source": "resale_flat_prices_merged_df['remaining_lease'] = resale_flat_prices_merged_df.apply(get_remaining_lease, axis=1)",
   "execution_count": 10,
   "outputs": []
  },
  {
   "cell_type": "markdown",
   "source": "### Get location details of HDB flats",
   "metadata": {
    "tags": [],
    "cell_id": "00013-fe14f628-6e67-4d26-b537-4a83776bab42",
    "deepnote_cell_type": "markdown"
   }
  },
  {
   "cell_type": "code",
   "metadata": {
    "tags": [],
    "cell_id": "00013-d1881786-13f0-4fed-bcba-27a6a4596294",
    "deepnote_to_be_reexecuted": false,
    "source_hash": "c9ab619d",
    "execution_start": 1626148619268,
    "execution_millis": 131,
    "deepnote_cell_type": "code"
   },
   "source": "resale_flat_prices_merged_df['address'] = resale_flat_prices_merged_df['block'] +' ' + resale_flat_prices_merged_df['street_name']",
   "execution_count": 11,
   "outputs": []
  },
  {
   "cell_type": "markdown",
   "source": "The following code took around 2 hours to run, instead of rerunning it, let's use the saved df from the result of the following chunk of code",
   "metadata": {
    "tags": [],
    "cell_id": "00017-19772833-f176-46d7-81d2-18c1f197ac0d",
    "deepnote_cell_type": "markdown"
   }
  },
  {
   "cell_type": "code",
   "metadata": {
    "tags": [],
    "cell_id": "00016-586867da-4422-4e61-956c-09f45d17e31e",
    "deepnote_to_be_reexecuted": false,
    "source_hash": "6de60b18",
    "execution_start": 1626148619435,
    "execution_millis": 6791745,
    "is_output_hidden": false,
    "deepnote_cell_type": "code"
   },
   "source": "address_to_coordinates_mapper = {}\naddress_information_dict = {\n        'latitude': [],\n        'longitude': [],\n        'postal_code': [],\n        'building': [],\n        'road_name': []\n}\n\nunique_addresses = resale_flat_prices_merged_df['address'].unique()\n\nfor address in unique_addresses:\n    latitude, longitude, postal_code, building, road_name = get_location_details(address)\n\n    address_to_coordinates_mapper[address] = {\n        'latitude': latitude,\n        'longitude': longitude,\n        'postal_code': postal_code,\n        'building': building,\n        'road_name': road_name\n    }\n\n    address_information_dict['latitude'].append(latitude)\n    address_information_dict['longitude'].append(longitude)\n    address_information_dict['postal_code'].append(postal_code)\n    address_information_dict['building'].append(building)\n    address_information_dict['road_name'].append(road_name)",
   "execution_count": 12,
   "outputs": []
  },
  {
   "cell_type": "code",
   "metadata": {
    "tags": [],
    "cell_id": "00019-2d325e81-bca1-44d7-90a7-60086887c905",
    "deepnote_to_be_reexecuted": false,
    "source_hash": "bca6fd43",
    "execution_start": 1626155411222,
    "execution_millis": 22,
    "deepnote_cell_type": "code"
   },
   "source": "# Save address_information just in case\naddress_information_df = pd.DataFrame(address_information_dict)\n\n# Drop rows where latitude or longitude is None\naddress_information_df.dropna(subset=['latitude', 'longitude'], inplace=True)\n\naddress_information_file_path = os.path.join('..', 'Cleaned Data', 'address information.csv')\naddress_information_df.to_csv(address_information_file_path, index=False)",
   "execution_count": 13,
   "outputs": []
  },
  {
   "cell_type": "code",
   "metadata": {
    "tags": [],
    "cell_id": "00021-1d4edbd0-5c12-4c49-8eff-c47ca3802aaf",
    "deepnote_to_be_reexecuted": false,
    "source_hash": "3761ed2c",
    "execution_start": 1626155411247,
    "execution_millis": 0,
    "deepnote_cell_type": "code"
   },
   "source": "# address_to_coordinates_mapper_file_path = os.path.join('..', 'Helper Data', 'address_to_coordinates_mapper.json')\n\n# with open(address_to_coordinates_mapper_file_path, 'w') as f:\n#     json.dump(address_to_coordinates_mapper, f)",
   "execution_count": 14,
   "outputs": []
  },
  {
   "cell_type": "code",
   "metadata": {
    "tags": [],
    "cell_id": "00020-6284931c-497a-4972-b016-7daf31693fca",
    "deepnote_to_be_reexecuted": false,
    "source_hash": "e136e62a",
    "execution_start": 1626155411251,
    "execution_millis": 3,
    "deepnote_cell_type": "code"
   },
   "source": "# address_to_coordinates_mapper_file_path = os.path.join('..', 'Helper Data', 'address_to_coordinates_mapper.json')\n\n# with open(address_to_coordinates_mapper_file_path, 'r') as f:\n#     address_to_coordinates_mapper = json.load(f)",
   "execution_count": 15,
   "outputs": []
  },
  {
   "cell_type": "code",
   "metadata": {
    "tags": [],
    "cell_id": "00016-46cf8ecc-fc6c-4983-9fc1-d492c5aa7b0f",
    "deepnote_to_be_reexecuted": false,
    "source_hash": "24c1e82d",
    "execution_start": 1626155411256,
    "execution_millis": 0,
    "deepnote_cell_type": "code"
   },
   "source": "# def get_latitude(address):\n#     if address in address_to_coordinates_mapper:\n#         return address_to_coordinates_mapper[address]['latitude']\n\n#     return None\n\n# def get_longitude(address):\n#     if address in address_to_coordinates_mapper:\n#         return address_to_coordinates_mapper[address]['longitude']\n\n#     return None\n\n# resale_flat_prices_merged_df['latitude'] = resale_flat_prices_merged_df['address'].apply(lambda address: address_to_coordinates_mapper[address]['latitude'])\n# resale_flat_prices_merged_df['longitude'] = resale_flat_prices_merged_df['address'].apply(lambda address: address_to_coordinates_mapper[address]['longitude'])",
   "execution_count": 16,
   "outputs": []
  },
  {
   "cell_type": "code",
   "source": "resale_flat_prices_merged_df['latitude'] = resale_flat_prices_merged_df['address'].apply(lambda address: address_to_coordinates_mapper[address]['latitude'])\nresale_flat_prices_merged_df['longitude'] = resale_flat_prices_merged_df['address'].apply(lambda address: address_to_coordinates_mapper[address]['longitude'])\nresale_flat_prices_merged_df['postal_code'] = resale_flat_prices_merged_df['address'].apply(lambda address: address_to_coordinates_mapper[address]['postal_code'])\nresale_flat_prices_merged_df['building'] = resale_flat_prices_merged_df['address'].apply(lambda address: address_to_coordinates_mapper[address]['building'])\nresale_flat_prices_merged_df['road_name'] = resale_flat_prices_merged_df['address'].apply(lambda address: address_to_coordinates_mapper[address]['road_name'])",
   "metadata": {
    "tags": [],
    "cell_id": "00027-faeec73c-f879-40d0-aad1-9830bb324acb",
    "deepnote_to_be_reexecuted": false,
    "source_hash": "9510fc49",
    "execution_start": 1626155411302,
    "execution_millis": 1118,
    "deepnote_cell_type": "code"
   },
   "outputs": [],
   "execution_count": 17
  },
  {
   "cell_type": "code",
   "metadata": {
    "tags": [],
    "cell_id": "00028-8e08bc76-6f66-4e62-ba0d-21fd08c3ad12",
    "deepnote_to_be_reexecuted": false,
    "source_hash": "9a0636d0",
    "execution_start": 1626155412435,
    "execution_millis": 513,
    "deepnote_cell_type": "code"
   },
   "source": "# Drop rows where latitude or longitude is None (Around 50,000 data points are removed)\nresale_flat_prices_merged_df.dropna(subset=['latitude', 'longitude'], inplace=True)",
   "execution_count": 20,
   "outputs": []
  },
  {
   "cell_type": "code",
   "source": "# Get district of the HDB based on the postal code (Sorted by district)\npostal_code_mapper = {\n    '01': 1,\n    '02': 1,\n    '03': 1,\n    '04': 1,\n    '05': 1,\n    '06': 1,\n    '07': 2,\n    '08': 2,\n    '14': 3,\n    '15': 3,\n    '16': 3,\n    '09': 4,\n    '10': 4,\n    '11': 5,\n    '12': 5,\n    '13': 5,\n    '17': 6,\n    '18': 7,\n    '19': 7,\n    '20': 8,\n    '21': 8,\n    '22': 9,\n    '23': 9,\n    '24': 10,\n    '25': 10,\n    '26': 10,\n    '27': 10,\n    '28': 11,\n    '29': 11,\n    '30': 11,\n    '31': 12,\n    '32': 12,\n    '33': 12,\n    '34': 13,\n    '35': 13,\n    '36': 13,\n    '37': 13,\n    '38': 14,\n    '39': 14,\n    '40': 14,\n    '41': 14,\n    '42': 15,\n    '43': 15,\n    '44': 15,\n    '45': 15,\n    '46': 16,\n    '47': 16,\n    '48': 16,\n    '49': 17,\n    '50': 17,\n    '81': 17,\n    '51': 18,\n    '52': 18,\n    '53': 19,\n    '54': 19,\n    '55': 19,\n    '82': 19,\n    '56': 20,\n    '57': 20,\n    '58': 21,\n    '59': 21,\n    '60': 22,\n    '61': 22,\n    '62': 22,\n    '63': 22,\n    '64': 22,\n    '65': 23,\n    '66': 23,\n    '67': 23,\n    '68': 23,\n    '69': 24,\n    '70': 24,\n    '71': 24,\n    '72': 25,\n    '73': 25,\n    '77': 26,\n    '78': 26,\n    '75': 27,\n    '76': 27,\n    '79': 28,\n    '80': 28\n}",
   "metadata": {
    "tags": [],
    "cell_id": "00030-52797911-c105-4cdb-b110-1cb2ce6c086d",
    "deepnote_to_be_reexecuted": false,
    "source_hash": "54168b8d",
    "execution_start": 1626170120690,
    "execution_millis": 0,
    "deepnote_cell_type": "code"
   },
   "outputs": [],
   "execution_count": 76
  },
  {
   "cell_type": "code",
   "source": "def get_postal_district(postal_code):\n    # Strangely, postal code can be nil???\n    if postal_code == 'NIL':\n        return None\n\n    postal_code_first_two_num = str(postal_code)[:2]\n    return postal_code_mapper[postal_code_first_two_num]\n\nresale_flat_prices_merged_df['district'] = resale_flat_prices_merged_df['postal_code'].apply(get_postal_district)",
   "metadata": {
    "tags": [],
    "cell_id": "00030-a51345c7-1e2f-4fa7-b2ec-b1406bee3cb1",
    "deepnote_to_be_reexecuted": false,
    "source_hash": "982446af",
    "execution_start": 1626170120994,
    "execution_millis": 606,
    "deepnote_cell_type": "code"
   },
   "outputs": [],
   "execution_count": 77
  },
  {
   "cell_type": "markdown",
   "source": "### Drop unnecessary columns\n> We will likely revisit this later :)",
   "metadata": {
    "tags": [],
    "cell_id": "00015-c0bac5a3-be50-43cc-8347-01a7a2fd96cf",
    "deepnote_cell_type": "markdown"
   }
  },
  {
   "cell_type": "code",
   "metadata": {
    "tags": [],
    "cell_id": "00015-f3781966-be9f-4178-bf74-eeeb355e6009",
    "deepnote_to_be_reexecuted": false,
    "source_hash": "7c6e117f",
    "execution_start": 1626155413124,
    "execution_millis": 4,
    "deepnote_cell_type": "code"
   },
   "source": "resale_flat_prices_merged_df.drop(columns=['_id_x', '_id_y', 'bldg_contract_town', 'street', 'blk_no'], inplace=True)",
   "execution_count": 22,
   "outputs": []
  },
  {
   "cell_type": "markdown",
   "source": "### Rename columns",
   "metadata": {
    "tags": [],
    "cell_id": "00015-ca26ef33-caeb-436c-98f3-6ea3fbcf9c00",
    "deepnote_cell_type": "markdown"
   }
  },
  {
   "cell_type": "code",
   "metadata": {
    "tags": [],
    "cell_id": "00016-0203d5d1-c974-4768-b6a8-1cf29c3df11f",
    "deepnote_to_be_reexecuted": false,
    "source_hash": "95f1747f",
    "execution_start": 1626155413132,
    "execution_millis": 3,
    "deepnote_cell_type": "code"
   },
   "source": "resale_flat_prices_merged_df.rename(columns={'month': 'date_sold'}, inplace=True)",
   "execution_count": 23,
   "outputs": []
  },
  {
   "cell_type": "markdown",
   "source": "### Only include data from 2010 onwards for small version\n> To push to Github without git lfs",
   "metadata": {
    "tags": [],
    "cell_id": "00026-492543f1-d7b8-4e89-acff-6debbfa63509",
    "deepnote_cell_type": "markdown"
   }
  },
  {
   "cell_type": "code",
   "metadata": {
    "tags": [],
    "cell_id": "00027-cbf73f4a-44ec-4a13-a068-9cabefb425d8",
    "deepnote_to_be_reexecuted": false,
    "source_hash": "7d96c8ad",
    "execution_start": 1626184392696,
    "execution_millis": 412,
    "deepnote_cell_type": "code"
   },
   "source": "resale_flat_prices_merged_df['date_sold'] = pd.to_datetime(resale_flat_prices_merged_df['date_sold'])\nresale_flat_prices_merged_df_small = resale_flat_prices_merged_df[resale_flat_prices_merged_df['date_sold'].dt.year >= 2010].reset_index()",
   "execution_count": 86,
   "outputs": []
  },
  {
   "cell_type": "markdown",
   "source": "## Clean bus_services_df",
   "metadata": {
    "tags": [],
    "cell_id": "00026-0f17012e-a3c6-43da-a62a-b7be1c4299f5",
    "deepnote_cell_type": "markdown"
   }
  },
  {
   "cell_type": "markdown",
   "source": "### Get additional location data for bus stops",
   "metadata": {
    "tags": [],
    "cell_id": "00035-25ba672a-19bf-4181-8b7e-12a52ba5e679",
    "deepnote_cell_type": "markdown"
   }
  },
  {
   "cell_type": "code",
   "metadata": {
    "tags": [],
    "cell_id": "00036-44224cab-d645-41e5-b612-ab00aae9aff9",
    "deepnote_to_be_reexecuted": false,
    "source_hash": "af078135",
    "execution_start": 1626155413469,
    "execution_millis": 1,
    "deepnote_cell_type": "code"
   },
   "source": "# def bus_stops_get_additional_location_data(row):\n#     latitude = row['Latitude']\n#     longitude = row['Longitude']\n\n#     building_name, block, road, postal_code = get_location_details_from_lat_long(latitude, longitude)\n\n#     row['building_name'] = building_name\n#     row['block'] = block\n#     row['road'] = road\n#     row['postal_code'] = postal_code\n\n#     return row\n\n# bus_stops_df = bus_stops_df.apply(bus_stops_get_additional_location_data, axis=1)",
   "execution_count": 25,
   "outputs": []
  },
  {
   "cell_type": "markdown",
   "source": "### Merge bus stops and bus services",
   "metadata": {
    "tags": [],
    "cell_id": "00027-09ff85f4-9cfc-4d10-9f14-559c63ad6593",
    "deepnote_cell_type": "markdown"
   }
  },
  {
   "cell_type": "code",
   "metadata": {
    "tags": [],
    "cell_id": "00028-1550bb00-3c95-48e4-8cbe-745a87c9fd38",
    "deepnote_to_be_reexecuted": false,
    "source_hash": "4f30cf1a",
    "execution_start": 1626155413485,
    "execution_millis": 15,
    "deepnote_cell_type": "code"
   },
   "source": "# Remove a strange BusStopCode called CTE that is not found on the bus stops data frame\nbus_services_df = bus_services_df[bus_services_df['BusStopCode'].str.isnumeric()]\nbus_services_df['BusStopCode'] = bus_services_df['BusStopCode'].astype('int64')",
   "execution_count": 26,
   "outputs": []
  },
  {
   "cell_type": "code",
   "metadata": {
    "tags": [],
    "cell_id": "00027-5b03ecb0-5a56-456c-a307-bd8dde235839",
    "deepnote_to_be_reexecuted": false,
    "source_hash": "a77fdf2d",
    "execution_start": 1626155413501,
    "execution_millis": 21,
    "deepnote_cell_type": "code"
   },
   "source": "bus_services_merged_df = pd.merge(bus_services_df, bus_stops_df, how='left', on='BusStopCode')",
   "execution_count": 27,
   "outputs": []
  },
  {
   "cell_type": "markdown",
   "source": "## Clean mrt_df",
   "metadata": {
    "tags": [],
    "cell_id": "00042-97163556-5265-466f-a91c-cd87af667c3e",
    "deepnote_cell_type": "markdown"
   }
  },
  {
   "cell_type": "markdown",
   "source": "### Get additional location data for mrt stations",
   "metadata": {
    "tags": [],
    "cell_id": "00043-d7e28596-6eed-4ceb-b907-2cf1d778ef7e",
    "deepnote_cell_type": "markdown"
   }
  },
  {
   "cell_type": "code",
   "metadata": {
    "tags": [],
    "cell_id": "00044-b647d1ff-fab3-4392-a50c-01128d808759",
    "deepnote_to_be_reexecuted": false,
    "source_hash": "e6e14c5c",
    "execution_start": 1626155413530,
    "execution_millis": 5,
    "output_cleared": true,
    "deepnote_cell_type": "code"
   },
   "source": "# def mrt_get_additional_location_data(row):\n#     latitude = row['Latitude']\n#     longitude = row['Longitude']\n\n#     building_name, block, road, postal_code = get_location_details_from_lat_long(latitude, longitude)\n\n#     row['building_name'] = building_name\n#     row['block'] = block\n#     row['road'] = road\n#     row['postal_code'] = postal_code\n\n#     return row\n\n# mrt_df = mrt_df.apply(mrt_get_additional_location_data, axis=1)",
   "execution_count": 28,
   "outputs": []
  },
  {
   "cell_type": "markdown",
   "source": "## Clean schools_df",
   "metadata": {
    "tags": [],
    "cell_id": "00024-de56e91c-b6ad-4bf0-8917-157252a2539a",
    "deepnote_cell_type": "markdown"
   }
  },
  {
   "cell_type": "markdown",
   "source": "### Get latitude and longitude of schools",
   "metadata": {
    "tags": [],
    "cell_id": "00030-fb5df163-913a-4452-ae94-c583e8710998",
    "deepnote_cell_type": "markdown"
   }
  },
  {
   "cell_type": "code",
   "metadata": {
    "tags": [],
    "cell_id": "00018-324b8833-7bd0-4b4d-a733-9233690f1e2a",
    "deepnote_to_be_reexecuted": false,
    "source_hash": "4643308",
    "execution_start": 1626155413585,
    "execution_millis": 252284,
    "deepnote_cell_type": "code"
   },
   "source": "def school_get_location_details(row):\n    postal_code = row['postal_code']\n\n    latitude, longitude, _, _, _ = get_location_details(postal_code)\n\n    row['latitude'] = latitude\n    row['longitude'] = longitude\n\n    return row\n\nschools_df = schools_df.apply(school_get_location_details, axis=1)",
   "execution_count": 29,
   "outputs": []
  },
  {
   "cell_type": "code",
   "metadata": {
    "tags": [],
    "cell_id": "00035-fa374db4-30c9-4857-b77c-5aec25dc0c83",
    "deepnote_to_be_reexecuted": false,
    "source_hash": "e7213f56",
    "execution_start": 1626155665911,
    "execution_millis": 0,
    "deepnote_cell_type": "code"
   },
   "source": "# Drop rows where latitude or longitude is None\nschools_df.dropna(subset=['latitude', 'longitude'], inplace=True)",
   "execution_count": 30,
   "outputs": []
  },
  {
   "cell_type": "markdown",
   "source": "## Clean supermarket_df",
   "metadata": {
    "tags": [],
    "cell_id": "00032-a8f44f13-163d-4087-8f67-a9a075dede1c",
    "deepnote_cell_type": "markdown"
   }
  },
  {
   "cell_type": "markdown",
   "source": "### Get latitude and longitude of supermarkets",
   "metadata": {
    "tags": [],
    "cell_id": "00033-5ac32a93-4baf-4cea-9df2-9218a37c6053",
    "deepnote_cell_type": "markdown"
   }
  },
  {
   "cell_type": "code",
   "metadata": {
    "tags": [],
    "cell_id": "00031-bdd0d45c-166a-4061-b6d5-3f1d5d577b76",
    "deepnote_to_be_reexecuted": false,
    "source_hash": "728972c8",
    "execution_start": 1626155665911,
    "execution_millis": 486206,
    "deepnote_cell_type": "code"
   },
   "source": "def supermarkets_get_lat_long(row):\n    premise_address = row['premise_address']\n    postal_code_start_index = premise_address.index('S(') + 2\n    postal_code_end_index = postal_code_start_index + 6\n    postal_code = premise_address[postal_code_start_index:postal_code_end_index]\n\n    latitude, longitude, _, _, _ = get_location_details(postal_code)\n\n    row['latitude'] = latitude\n    row['longitude'] = longitude\n    row['postal_code'] = postal_code\n\n    return row\n\nsupermarkets_df = supermarkets_df.apply(supermarkets_get_lat_long, axis=1)",
   "execution_count": 31,
   "outputs": []
  },
  {
   "cell_type": "code",
   "metadata": {
    "tags": [],
    "cell_id": "00038-159bea79-c814-48c4-aca5-84ae11f44edb",
    "deepnote_to_be_reexecuted": false,
    "source_hash": "75506d26",
    "execution_start": 1626156152159,
    "execution_millis": 1,
    "deepnote_cell_type": "code"
   },
   "source": "# Drop rows where latitude or longitude is None\nsupermarkets_df.dropna(subset=['latitude', 'longitude'], inplace=True)",
   "execution_count": 32,
   "outputs": []
  },
  {
   "cell_type": "markdown",
   "source": "## Clean RelaxSG.kml",
   "metadata": {
    "tags": [],
    "cell_id": "00038-59b2e55e-9098-4d85-9d2a-174b0c65a116",
    "deepnote_cell_type": "markdown"
   }
  },
  {
   "cell_type": "markdown",
   "source": "### Get latitude and longitude of parks",
   "metadata": {
    "tags": [],
    "cell_id": "00039-71545805-14a1-4026-805f-c9e20de2f5e4",
    "deepnote_cell_type": "markdown"
   }
  },
  {
   "cell_type": "code",
   "metadata": {
    "tags": [],
    "cell_id": "00040-dee69dd4-d12f-4fc8-bc49-bfece2ad1ffe",
    "deepnote_to_be_reexecuted": false,
    "source_hash": "fa4a62a0",
    "execution_start": 1626156152161,
    "execution_millis": 440,
    "deepnote_cell_type": "code"
   },
   "source": "# Require different libraries to read this data type\nimport geopandas as gpd\nimport fiona\n\ngpd.io.file.fiona.drvsupport.supported_drivers['KML'] = 'rw'\nparks_df = gpd.read_file('../Raw Data/RelaxSG.kml', driver='KML')",
   "execution_count": 33,
   "outputs": []
  },
  {
   "cell_type": "code",
   "metadata": {
    "tags": [],
    "cell_id": "00041-b85cf389-57ec-4f35-b0c3-2044d1344517",
    "deepnote_to_be_reexecuted": false,
    "source_hash": "485b465a",
    "execution_start": 1626156152605,
    "execution_millis": 4,
    "deepnote_cell_type": "code"
   },
   "source": "parks_df['latitude'] = parks_df['geometry'].y\nparks_df['longitude'] = parks_df['geometry'].x",
   "execution_count": 34,
   "outputs": []
  },
  {
   "cell_type": "markdown",
   "source": "### Remove unnecessary columns",
   "metadata": {
    "tags": [],
    "cell_id": "00042-e14dbe1e-5214-40ae-aad7-d4a1b2e80f2d",
    "deepnote_cell_type": "markdown"
   }
  },
  {
   "cell_type": "code",
   "metadata": {
    "tags": [],
    "cell_id": "00042-96c76dd3-b3b2-4b9b-a0dc-4d734bd7a342",
    "deepnote_to_be_reexecuted": false,
    "source_hash": "4066f476",
    "execution_start": 1626156152658,
    "execution_millis": 0,
    "deepnote_cell_type": "code"
   },
   "source": "parks_df.drop(columns=['Description', 'geometry'], inplace=True)",
   "execution_count": 35,
   "outputs": []
  },
  {
   "cell_type": "code",
   "source": "# Require different libraries to read this data type\nimport geopandas as gpd\nimport fiona\n\ngpd.io.file.fiona.drvsupport.supported_drivers['KML'] = 'rw'\nparks_df = gpd.read_file('../Raw Data/RelaxSG.kml', driver='KML')",
   "metadata": {
    "tags": [],
    "cell_id": "00063-2603344b-02bc-4afc-915a-52afa2d1f9fa",
    "deepnote_to_be_reexecuted": false,
    "source_hash": "84ab7ec7",
    "execution_start": 1626165172206,
    "execution_millis": 126,
    "deepnote_cell_type": "code"
   },
   "outputs": [],
   "execution_count": 58
  },
  {
   "cell_type": "markdown",
   "source": "## Create District Map\n> Source: https://github.com/lozy219/angular-singapore-district-map",
   "metadata": {
    "tags": [],
    "cell_id": "00061-27eed882-9e0e-4ae2-ac55-3e50e06284c6",
    "deepnote_cell_type": "markdown"
   },
   "outputs": [],
   "execution_count": null
  },
  {
   "cell_type": "code",
   "source": "# # Create topojson file using lozy219's district map\n# singapore_districts_map_url = 'https://raw.githubusercontent.com/lozy219/angular-singapore-district-map/master/src/district.json'\n\n# singapore_districts_map_json = requests.get(singapore_districts_map_url).json()\n# singapore_topo_map = tp.Topology(singapore_districts_map_json['features'], prequantize=False)",
   "metadata": {
    "tags": [],
    "cell_id": "00062-1db8445a-19a8-41b2-98c2-299bcffb2e24",
    "deepnote_to_be_reexecuted": false,
    "source_hash": "23dbdbbb",
    "execution_start": 1626171268960,
    "execution_millis": 182,
    "deepnote_cell_type": "code"
   },
   "outputs": [],
   "execution_count": 82
  },
  {
   "cell_type": "code",
   "source": "# # Save district map\n# singapore_topo_map_file_path = os.path.join('../Helper Data/singapore topo map.json')\n# singapore_topo_map.to_json(singapore_topo_map_file_path)",
   "metadata": {
    "tags": [],
    "cell_id": "00063-c21232b2-986c-4539-bdf1-b752cf810185",
    "deepnote_to_be_reexecuted": false,
    "source_hash": "135f025f",
    "execution_start": 1626171284572,
    "execution_millis": 23,
    "deepnote_cell_type": "code"
   },
   "outputs": [],
   "execution_count": 84
  },
  {
   "cell_type": "markdown",
   "source": "## Save cleaned data frames",
   "metadata": {
    "tags": [],
    "cell_id": "00035-80a6adcf-b8e6-4344-a19a-3fd67c5389b9",
    "deepnote_cell_type": "markdown"
   }
  },
  {
   "cell_type": "code",
   "metadata": {
    "tags": [],
    "cell_id": "00036-49d055de-4cb2-4bf6-94dc-d04f0921eca5",
    "deepnote_to_be_reexecuted": false,
    "source_hash": "c298dd67",
    "execution_start": 1626184717098,
    "execution_millis": 35492,
    "deepnote_cell_type": "code"
   },
   "source": "resale_flat_prices_file_path = os.path.join('..', 'Cleaned Data', 'resale flat prices.csv')\nresale_flat_prices_small_file_path = os.path.join('..', 'Cleaned Data', 'resale flat prices (small).csv')\nmrt_file_path = os.path.join('..', 'Cleaned Data', 'MRT information.csv')\nbus_stops_file_path = os.path.join('..', 'Cleaned Data', 'Bus Stops information.csv')\nbus_services_file_path = os.path.join('..', 'Cleaned Data', 'Bus Services information.csv')\nschools_file_path = os.path.join('..', 'Cleaned Data', 'Schools information.csv')\nsupermarkets_file_path = os.path.join('..', 'Cleaned Data', 'supermarkets information.csv')\nparks_file_path = os.path.join('..', 'Cleaned Data', 'parks information.csv')\n\nresale_flat_prices_merged_df.to_csv(resale_flat_prices_file_path, index=False)\nresale_flat_prices_merged_df_small.to_csv(resale_flat_prices_small_file_path, index=False)\nmrt_df.to_csv(mrt_file_path, index=False)\nbus_stops_df.to_csv(bus_stops_file_path, index=False)\nbus_services_merged_df.to_csv(bus_services_file_path, index=False)\nschools_df.to_csv(schools_file_path, index=False)\nsupermarkets_df.to_csv(supermarkets_file_path, index=False)\nparks_df.to_csv(parks_file_path, index=False)",
   "execution_count": 90,
   "outputs": []
  },
  {
   "cell_type": "markdown",
   "source": "<a style='text-decoration:none;line-height:16px;display:flex;color:#5B5B62;padding:10px;justify-content:end;' href='https://deepnote.com?utm_source=created-in-deepnote-cell&projectId=8affb79e-2cc6-4186-86e6-a88dc9ffb80e' target=\"_blank\">\n<img alt='Created in deepnote.com' style='display:inline;max-height:16px;margin:0px;margin-right:7.5px;' src='data:image/svg+xml;base64,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' > </img>\nCreated in <span style='font-weight:600;margin-left:4px;'>Deepnote</span></a>",
   "metadata": {
    "tags": [],
    "created_in_deepnote_cell": true,
    "deepnote_cell_type": "markdown"
   }
  }
 ],
 "nbformat": 4,
 "nbformat_minor": 2,
 "metadata": {
  "orig_nbformat": 2,
  "deepnote": {
   "is_reactive": false
  },
  "deepnote_notebook_id": "6e9c7063-1df6-4c0c-862c-76dc125440ce",
  "deepnote_execution_queue": []
 }
}