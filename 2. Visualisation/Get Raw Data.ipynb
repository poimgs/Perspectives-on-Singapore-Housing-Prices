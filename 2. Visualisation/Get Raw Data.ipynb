{
 "cells": [
  {
   "cell_type": "markdown",
   "source": "# Get Raw data\n> The following are variables that people typically consider when buying HDBs",
   "metadata": {
    "tags": [],
    "cell_id": "00000-d12cc984-c8e8-4ac1-bb2b-d55559e2abd0",
    "deepnote_cell_type": "markdown"
   }
  },
  {
   "cell_type": "code",
   "metadata": {
    "tags": [],
    "deepnote_to_be_reexecuted": false,
    "source_hash": "464682df",
    "execution_start": 1625913439785,
    "execution_millis": 0,
    "cell_id": "00001-5aa6522d-5255-4460-9585-5b251106a6da",
    "deepnote_cell_type": "code"
   },
   "source": "import pandas as pd\nimport requests\nimport os\nfrom datetime import datetime\nimport time",
   "execution_count": null,
   "outputs": []
  },
  {
   "cell_type": "code",
   "metadata": {
    "tags": [],
    "cell_id": "00002-40607932-6e5a-49be-ab64-54a6c7d66e91",
    "deepnote_to_be_reexecuted": false,
    "source_hash": "70862c90",
    "execution_start": 1625913439786,
    "execution_millis": 0,
    "deepnote_cell_type": "code"
   },
   "source": "date_today = datetime.today().strftime(\"%d_%m_%Y\")",
   "execution_count": null,
   "outputs": []
  },
  {
   "cell_type": "markdown",
   "source": "# Resale flat prices\n> Source: https://data.gov.sg/dataset/resale-flat-prices",
   "metadata": {
    "tags": [],
    "cell_id": "00002-d5ef28af-f261-40c2-874a-82eb1d015bd2",
    "deepnote_cell_type": "markdown"
   }
  },
  {
   "cell_type": "code",
   "metadata": {
    "tags": [],
    "cell_id": "00005-43590516-082d-418b-84a5-7a2f52072223",
    "deepnote_to_be_reexecuted": false,
    "source_hash": "b08dd3cb",
    "execution_start": 1625913439786,
    "execution_millis": 1,
    "deepnote_cell_type": "code"
   },
   "source": "data_gov_url = 'https://data.gov.sg/api/action/datastore_search'",
   "execution_count": null,
   "outputs": []
  },
  {
   "cell_type": "code",
   "metadata": {
    "tags": [],
    "deepnote_to_be_reexecuted": false,
    "source_hash": "545afcd7",
    "execution_start": 1625913439788,
    "execution_millis": 3,
    "cell_id": "00003-d0fd4b49-d167-409e-bd71-5327fb7cac74",
    "deepnote_cell_type": "code"
   },
   "source": "resale_flat_prices_resource_ids = [\n    '8c00bf08-9124-479e-aeca-7cc411d884c4', # 2000 - Feb 2012\n    '83b2fc37-ce8c-4df4-968b-370fd818138b', # Mar 2012 - Dec 2014\n    '1b702208-44bf-4829-b620-4615ee19b57c', # Jan 2015 - Dec 2016\n    '42ff9cfe-abe5-4b54-beda-c88f9bb438ee', # Jan 2017 - Today\n]",
   "execution_count": null,
   "outputs": []
  },
  {
   "cell_type": "code",
   "metadata": {
    "tags": [],
    "deepnote_to_be_reexecuted": false,
    "source_hash": "69ccdc6b",
    "execution_start": 1625913439794,
    "execution_millis": 2022,
    "cell_id": "00004-0e984ac2-1050-4672-97c3-1a31c0dd8b19",
    "deepnote_cell_type": "code"
   },
   "source": "results = []\n\nfor resource_id in resale_flat_prices_resource_ids:\n\n    params_data = {\n    'resource_id': resource_id,\n    'limit': 10000000\n    }\n\n    res = requests.get(data_gov_url, params=params_data)\n    records = res.json()['result']['records']\n\n    df = pd.DataFrame(records)\n    results.append(df)\n\nresale_flat_prices_df = pd.concat(results)",
   "execution_count": null,
   "outputs": []
  },
  {
   "cell_type": "code",
   "metadata": {
    "tags": [],
    "deepnote_to_be_reexecuted": false,
    "source_hash": "bcabe87c",
    "execution_start": 1625913441819,
    "execution_millis": 421,
    "cell_id": "00005-5c261f46-6b65-4feb-8c27-81b8e2aef18f",
    "deepnote_cell_type": "code"
   },
   "source": "file_path = os.path.join('..', 'Raw Data', f'resale flat prices ({date_today}).csv')\nresale_flat_prices_df.to_csv(file_path, index=False)",
   "execution_count": null,
   "outputs": []
  },
  {
   "cell_type": "markdown",
   "source": "# HDB Property information\n> Source: https://data.gov.sg/dataset/hdb-property-information",
   "metadata": {
    "tags": [],
    "cell_id": "00006-55678352-1360-4bac-af84-4cfcb900a0e7",
    "deepnote_cell_type": "markdown"
   }
  },
  {
   "cell_type": "code",
   "metadata": {
    "tags": [],
    "cell_id": "00007-f21f0973-bc38-4b33-aac1-3d9097b3f5e8",
    "deepnote_to_be_reexecuted": false,
    "source_hash": "4bdf9577",
    "execution_start": 1625913442244,
    "execution_millis": 4262,
    "deepnote_cell_type": "code"
   },
   "source": "params_data = {\n'resource_id': '482bfa14-2977-4035-9c61-c85f871daf4e',\n'limit': 10000000\n}\n\nres = requests.get(data_gov_url, params=params_data)\nrecords = res.json()['result']['records']\n\nhdb_property_info_df = pd.DataFrame(records)",
   "execution_count": null,
   "outputs": []
  },
  {
   "cell_type": "code",
   "metadata": {
    "tags": [],
    "cell_id": "00008-f9155a5e-48a6-4d5d-b882-80ee2e34d55d",
    "deepnote_to_be_reexecuted": false,
    "source_hash": "41d45e38",
    "execution_start": 1625913446509,
    "execution_millis": 52,
    "deepnote_cell_type": "code"
   },
   "source": "file_path = os.path.join('..', 'Raw Data', 'HDB property information.csv')\nhdb_property_info_df.to_csv(file_path, index=False)",
   "execution_count": null,
   "outputs": []
  },
  {
   "cell_type": "markdown",
   "source": "# MRT & Bus information\n> Sources:\n> - https://github.com/hxchua/datadoubleconfirm/blob/master/datasets/mrtsg.csv\n> - https://datamall.lta.gov.sg/content/datamall/en/dynamic-data.html",
   "metadata": {
    "tags": [],
    "cell_id": "00009-11bd9686-1e9b-4eac-9dd6-2744a12a9ade",
    "deepnote_cell_type": "markdown"
   }
  },
  {
   "cell_type": "code",
   "metadata": {
    "tags": [],
    "cell_id": "00010-df855955-aaf1-4f28-8a69-8de4870808c6",
    "deepnote_to_be_reexecuted": false,
    "source_hash": "9d415e6b",
    "execution_start": 1625913446565,
    "execution_millis": 156,
    "deepnote_cell_type": "code"
   },
   "source": "# Get MRT information\nMRT_url  = 'https://raw.githubusercontent.com/hxchua/datadoubleconfirm/master/datasets/mrtsg.csv'\nmrt_df = pd.read_csv(MRT_url)",
   "execution_count": null,
   "outputs": []
  },
  {
   "cell_type": "code",
   "metadata": {
    "tags": [],
    "cell_id": "00012-40eadbcf-959e-433d-b4cd-9c13da6a94d2",
    "deepnote_to_be_reexecuted": false,
    "source_hash": "ef88cfb6",
    "execution_start": 1625913446725,
    "execution_millis": 5,
    "deepnote_cell_type": "code"
   },
   "source": "# Save MRT information\nfile_path = os.path.join('..', 'Raw Data', 'MRT information.csv')\nmrt_df.to_csv(file_path, index=False)",
   "execution_count": null,
   "outputs": []
  },
  {
   "cell_type": "code",
   "metadata": {
    "tags": [],
    "cell_id": "00013-f5dcc04b-ffc9-40fd-94ad-e6a62fac24de",
    "deepnote_to_be_reexecuted": false,
    "source_hash": "9e898906",
    "execution_start": 1625913446732,
    "execution_millis": 3,
    "deepnote_cell_type": "code"
   },
   "source": "# Get Bus stops information\n\n# Prepare API key to be sent through headers\nLTA_API_KEY = os.environ[\"LTA_API_KEY\"]\n\nheaders_data = {\n    'AccountKey': LTA_API_KEY\n}",
   "execution_count": null,
   "outputs": []
  },
  {
   "cell_type": "code",
   "metadata": {
    "tags": [],
    "cell_id": "00014-916b5907-8e36-4d88-8d8f-83ba5501ee62",
    "deepnote_to_be_reexecuted": false,
    "source_hash": "51392088",
    "execution_start": 1625913446778,
    "execution_millis": 19295,
    "deepnote_cell_type": "code"
   },
   "source": "bus_stop_dfs = []\n\nbus_stops_url = 'http://datamall2.mytransport.sg/ltaodataservice/BusStops'\nparams_data = {'$skip': 0}\n\nwhile True:\n    response = requests.get(bus_stops_url, headers=headers_data, params=params_data)\n    bus_stop_df = pd.DataFrame(response.json()['value'])\n    bus_stop_dfs.append(bus_stop_df)\n\n    # Since the API can only return 500 records at a time, when the request returns less than 500 records, it means we have collected all data\n    if len(bus_stop_df) < 500:\n        break\n    \n    # Get data for next 500 records\n    params_data['$skip'] += 500\n\n    # datamall is keeping a track of my API usage!\n    time.sleep(1)",
   "execution_count": null,
   "outputs": []
  },
  {
   "cell_type": "code",
   "metadata": {
    "tags": [],
    "cell_id": "00015-03a6dcf7-792c-4a8c-aaba-58c994c61cbc",
    "deepnote_to_be_reexecuted": false,
    "source_hash": "54073591",
    "execution_start": 1625913466080,
    "execution_millis": 26,
    "deepnote_cell_type": "code"
   },
   "source": "# Save bus stop information\nbus_stops_df = pd.concat(bus_stop_dfs)\n\nfile_path = os.path.join('..', 'Raw Data', 'Bus Stops information.csv')\nbus_stops_df.to_csv(file_path, index=False)",
   "execution_count": null,
   "outputs": []
  },
  {
   "cell_type": "code",
   "metadata": {
    "tags": [],
    "cell_id": "00016-54e46853-dad4-4532-b546-c29f30d3e28f",
    "deepnote_to_be_reexecuted": false,
    "source_hash": "435c069e",
    "execution_start": 1625913466113,
    "execution_millis": 115309,
    "deepnote_cell_type": "code"
   },
   "source": "bus_services_dfs = []\n\nbus_services_url = 'http://datamall2.mytransport.sg/ltaodataservice/BusRoutes'\nparams_data = {'$skip': 0}\n\nwhile True:\n    response = requests.get(bus_services_url, headers=headers_data, params=params_data)\n    bus_services_df = pd.DataFrame(response.json()['value'])\n    bus_services_dfs.append(bus_services_df)\n\n    # Since the API can only return 500 records at a time, when the request returns less than 500 records, it means we have collected all data\n    if len(bus_services_df) < 500:\n        break\n    \n    # Get data for next 500 records\n    params_data['$skip'] += 500\n\n    # datamall is keeping a track of my API usage!\n    time.sleep(1)",
   "execution_count": null,
   "outputs": []
  },
  {
   "cell_type": "code",
   "metadata": {
    "tags": [],
    "cell_id": "00018-55195308-312e-4f80-904b-c175e20d94da",
    "deepnote_to_be_reexecuted": false,
    "source_hash": "42749b1d",
    "execution_start": 1625913581423,
    "execution_millis": 85,
    "deepnote_cell_type": "code"
   },
   "source": "# Save bus services information\nbus_services_df = pd.concat(bus_services_dfs)\n\nfile_path = os.path.join('..', 'Raw Data', 'Bus Services information.csv')\nbus_services_df.to_csv(file_path, index=False)",
   "execution_count": null,
   "outputs": []
  },
  {
   "cell_type": "markdown",
   "source": "# School information\n> Source: https://data.gov.sg/dataset/school-directory-and-information",
   "metadata": {
    "tags": [],
    "cell_id": "00012-33398134-6ea6-43c9-91a7-4174b9d04bfe",
    "deepnote_cell_type": "markdown"
   }
  },
  {
   "cell_type": "code",
   "metadata": {
    "tags": [],
    "cell_id": "00017-1c5f8191-88d2-460b-b264-7a836529facf",
    "deepnote_to_be_reexecuted": false,
    "source_hash": "5a627cc3",
    "execution_start": 1625913581513,
    "execution_millis": 1019,
    "deepnote_cell_type": "code"
   },
   "source": "params_data = {\n    'resource_id': 'ede26d32-01af-4228-b1ed-f05c45a1d8ee',\n    'limit': 10000000\n}\nres = requests.get(data_gov_url, params=params_data)\nrecords = res.json()['result']['records']\n\nschool_info_df = pd.DataFrame(records)",
   "execution_count": null,
   "outputs": []
  },
  {
   "cell_type": "code",
   "metadata": {
    "tags": [],
    "cell_id": "00019-ac16a1ea-f70e-4de9-9603-fbbfed2a3234",
    "deepnote_to_be_reexecuted": false,
    "source_hash": "60d30a1f",
    "execution_start": 1625913582536,
    "execution_millis": 9,
    "deepnote_cell_type": "code"
   },
   "source": "# Save school information\nfile_path = os.path.join('..', 'Raw Data', 'Schools information.csv')\nschool_info_df.to_csv(file_path, index=False)",
   "execution_count": null,
   "outputs": []
  },
  {
   "cell_type": "markdown",
   "source": "# Supermarket information\n> Source: https://data.gov.sg/dataset/listing-of-licensed-supermarkets",
   "metadata": {
    "tags": [],
    "cell_id": "00013-a0b9e7a9-1e89-4ffb-8f6f-f760e765d214",
    "deepnote_cell_type": "markdown"
   }
  },
  {
   "cell_type": "code",
   "metadata": {
    "tags": [],
    "cell_id": "00021-cdcadbdd-482f-4bf3-8cd8-b07cf878ff97",
    "deepnote_to_be_reexecuted": false,
    "source_hash": "fc9e5bb6",
    "execution_start": 1625913582549,
    "execution_millis": 598,
    "deepnote_cell_type": "code"
   },
   "source": "params_data = {\n    'resource_id': 'df586152-d00f-4b15-b667-9e268f1b60df',\n    'limit': 10000000\n}\nres = requests.get(data_gov_url, params=params_data)\nrecords = res.json()['result']['records']\n\nsupermarket_info_df = pd.DataFrame(records)",
   "execution_count": null,
   "outputs": []
  },
  {
   "cell_type": "code",
   "metadata": {
    "tags": [],
    "cell_id": "00022-03c68106-e4e3-4349-88e4-7246f4a49794",
    "deepnote_to_be_reexecuted": false,
    "source_hash": "25d43e88",
    "execution_start": 1625913583150,
    "execution_millis": 5,
    "deepnote_cell_type": "code"
   },
   "source": "# Save supermarket information\nfile_path = os.path.join('..', 'Raw Data', 'supermarkets information.csv')\nsupermarket_info_df.to_csv(file_path, index=False)",
   "execution_count": null,
   "outputs": []
  },
  {
   "cell_type": "markdown",
   "source": "# Parks information\n> Source: https://data.gov.sg/dataset/parkssg?resource_id=42662ff5-321c-423e-a0fc-1282bf32e2b5\n\n<br>\nNote: This data was downloaded. I don't think I am able to get this data through an API unfortunately (Whoever is seeing this, let me know if I am wrong! Would love to collect this data automatically)",
   "metadata": {
    "tags": [],
    "cell_id": "00025-633a30a8-ec97-4838-a8cc-56ac05dd4ffe",
    "deepnote_cell_type": "markdown"
   }
  },
  {
   "cell_type": "markdown",
   "source": "<a style='text-decoration:none;line-height:16px;display:flex;color:#5B5B62;padding:10px;justify-content:end;' href='https://deepnote.com?utm_source=created-in-deepnote-cell&projectId=8affb79e-2cc6-4186-86e6-a88dc9ffb80e' target=\"_blank\">\n<img alt='Created in deepnote.com' style='display:inline;max-height:16px;margin:0px;margin-right:7.5px;' src='data:image/svg+xml;base64,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' > </img>\nCreated in <span style='font-weight:600;margin-left:4px;'>Deepnote</span></a>",
   "metadata": {
    "tags": [],
    "created_in_deepnote_cell": true,
    "deepnote_cell_type": "markdown"
   }
  }
 ],
 "nbformat": 4,
 "nbformat_minor": 2,
 "metadata": {
  "orig_nbformat": 2,
  "deepnote": {
   "is_reactive": false
  },
  "deepnote_notebook_id": "71be161a-0505-4c46-ac3f-b846ce8c1c47",
  "deepnote_execution_queue": []
 }
}