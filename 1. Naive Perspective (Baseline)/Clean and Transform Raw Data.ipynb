{
 "cells": [
  {
   "cell_type": "markdown",
   "source": "# Clean Raw Data\n\n> Let's do the bare minimum to clean the data",
   "metadata": {
    "tags": [],
    "cell_id": "00000-ae054fc1-45ed-4553-a2be-d67bde57c9f2",
    "deepnote_cell_type": "markdown"
   }
  },
  {
   "cell_type": "code",
   "metadata": {
    "tags": [],
    "cell_id": "00001-fc4b4179-6262-4d16-8229-c6910c7a735f",
    "deepnote_to_be_reexecuted": false,
    "source_hash": "6cd11a64",
    "execution_start": 1624973072025,
    "execution_millis": 55,
    "deepnote_cell_type": "code"
   },
   "source": "import pandas as pd\nimport re\nimport math\nimport os",
   "execution_count": null,
   "outputs": []
  },
  {
   "cell_type": "code",
   "metadata": {
    "tags": [],
    "cell_id": "00001-b7e7ce90-de46-4b97-9f0e-5eeba19274ad",
    "deepnote_to_be_reexecuted": false,
    "source_hash": "6b7466",
    "execution_start": 1624973072093,
    "execution_millis": 1324,
    "deepnote_cell_type": "code"
   },
   "source": "resale_flat_prices_file_path = os.path.join('Raw Data', 'resale flat prices.csv')\nresale_flat_prices_df = pd.read_csv(resale_flat_prices_file_path)",
   "execution_count": null,
   "outputs": [
    {
     "name": "stderr",
     "text": "/shared-libs/python3.7/py-core/lib/python3.7/site-packages/IPython/core/interactiveshell.py:3170: DtypeWarning: Columns (11) have mixed types.Specify dtype option on import or set low_memory=False.\n  interactivity=interactivity, compiler=compiler, result=result)\n",
     "output_type": "stream"
    }
   ]
  },
  {
   "cell_type": "markdown",
   "source": "## Drop useless columns\n\n> - _id does not provide any meaningful information\n    > - street_name and block while meaningful, are categorical data that has too many variations and will introduce unneeded complexity (too many dimensions) into our model, we will explore how we can turn this into more meaningful info later!",
   "metadata": {
    "tags": [],
    "cell_id": "00003-577f8e07-fad2-481c-aac3-b37571d901a0",
    "deepnote_cell_type": "markdown"
   }
  },
  {
   "cell_type": "code",
   "metadata": {
    "tags": [],
    "cell_id": "00004-8ab63608-29dd-4fdf-aa22-4ac36ea4b39e",
    "deepnote_to_be_reexecuted": false,
    "source_hash": "6b2b3a6e",
    "execution_start": 1624973073421,
    "execution_millis": 68,
    "deepnote_cell_type": "code"
   },
   "source": "# id doeesn't provide any meaningful information for us\nresale_flat_prices_df.drop(columns=['_id', 'street_name', 'block'], inplace=True)",
   "execution_count": null,
   "outputs": []
  },
  {
   "cell_type": "markdown",
   "source": "## remaining_lease to only be in years\n\n> There are quite a few variations in how this is expressed. I will standardise this column to only be number of years left for the lease",
   "metadata": {
    "tags": [],
    "cell_id": "00005-a177986f-02d1-48d1-862d-edcb73b0f418",
    "deepnote_cell_type": "markdown"
   }
  },
  {
   "cell_type": "code",
   "metadata": {
    "tags": [],
    "cell_id": "00006-4dbfeeba-904f-4e71-8dd5-ad46cbfcd465",
    "deepnote_to_be_reexecuted": false,
    "source_hash": "3401d24d",
    "execution_start": 1624973073494,
    "execution_millis": 16,
    "deepnote_cell_type": "code"
   },
   "source": "years_regex = '(\\d+) years?'\n\ndef get_remaining_lease(row):\n    remaining_lease = row['remaining_lease']\n    lease_commence_date = row['lease_commence_date']\n    sale_date = row['month']\n\n    # To take into account nan values. Assumption: HDBs sold have a 99 year lease\n    if isinstance(remaining_lease, float) and math.isnan(remaining_lease):\n        sale_date_year = int(sale_date[:4])\n        remaining_lease_years = sale_date_year - lease_commence_date\n        return remaining_lease_years \n    \n    elif isinstance(remaining_lease, float):\n        return int(remaining_lease)\n\n    elif isinstance(remaining_lease, str):\n        years_res = re.search(years_regex, remaining_lease)\n\n        # To account for rows where this is expressed as x years y months\n        if years_res is not None:\n            remaining_lease_years = int(years_res.groups()[0])\n            return remaining_lease_years\n\n        # To take into account years that are strings\n        else:\n            return int(remaining_lease)",
   "execution_count": null,
   "outputs": []
  },
  {
   "cell_type": "code",
   "metadata": {
    "tags": [],
    "cell_id": "00008-685aec30-07da-4518-b758-2614d9005b5b",
    "deepnote_to_be_reexecuted": false,
    "source_hash": "7869a113",
    "execution_start": 1624973073516,
    "execution_millis": 28516,
    "deepnote_cell_type": "code"
   },
   "source": "resale_flat_prices_df['remaining_lease'] = resale_flat_prices_df.apply(get_remaining_lease, axis=1)",
   "execution_count": null,
   "outputs": []
  },
  {
   "cell_type": "markdown",
   "source": "## Save cleaned data frame",
   "metadata": {
    "tags": [],
    "cell_id": "00008-efff8871-7b7b-4cbb-9807-90ed0cb125c2",
    "deepnote_cell_type": "markdown"
   }
  },
  {
   "cell_type": "code",
   "metadata": {
    "tags": [],
    "cell_id": "00008-90d53512-97d8-4467-a9ba-bbd6af7c5300",
    "deepnote_to_be_reexecuted": false,
    "source_hash": "ab15816e",
    "execution_start": 1624973102037,
    "execution_millis": 4248,
    "deepnote_cell_type": "code"
   },
   "source": "file_path = os.path.join('Cleaned Data', 'resale flat prices.csv')\nresale_flat_prices_df.to_csv(file_path, index=False)",
   "execution_count": null,
   "outputs": []
  },
  {
   "cell_type": "markdown",
   "source": "<a style='text-decoration:none;line-height:16px;display:flex;color:#5B5B62;padding:10px;justify-content:end;' href='https://deepnote.com?utm_source=created-in-deepnote-cell&projectId=8affb79e-2cc6-4186-86e6-a88dc9ffb80e' target=\"_blank\">\n<img alt='Created in deepnote.com' style='display:inline;max-height:16px;margin:0px;margin-right:7.5px;' src='data:image/svg+xml;base64,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' > </img>\nCreated in <span style='font-weight:600;margin-left:4px;'>Deepnote</span></a>",
   "metadata": {
    "tags": [],
    "created_in_deepnote_cell": true,
    "deepnote_cell_type": "markdown"
   }
  }
 ],
 "nbformat": 4,
 "nbformat_minor": 2,
 "metadata": {
  "orig_nbformat": 2,
  "deepnote": {
   "is_reactive": false
  },
  "deepnote_notebook_id": "a5c2a599-3da3-4158-b8df-46203e7cff81",
  "deepnote_execution_queue": []
 }
}